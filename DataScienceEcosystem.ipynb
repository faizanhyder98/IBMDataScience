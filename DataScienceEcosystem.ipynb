{
 "cells": [
  {
   "cell_type": "markdown",
   "id": "49c590fb-0c35-42c5-adaa-0f1727db173b",
   "metadata": {},
   "source": [
    "# Data Science Tools and Ecosystem"
   ]
  },
  {
   "cell_type": "markdown",
   "id": "1a64d1c6-998d-4912-8194-a7348c01264c",
   "metadata": {},
   "source": [
    "# Data Science Tools and Ecosystem"
   ]
  },
  {
   "cell_type": "markdown",
   "id": "3af039ed-caa6-4ffc-bfa9-bdc9fc2a8db9",
   "metadata": {},
   "source": [
    "In this notebook, Data Science Tools and Ecosystem are summarized."
   ]
  },
  {
   "cell_type": "markdown",
   "id": "3d5ddd90-80e0-491b-8868-6cd2173cc8d9",
   "metadata": {},
   "source": [
    "In this notebook, Data Science Tools and Ecosystem are summarized."
   ]
  },
  {
   "cell_type": "markdown",
   "id": "d23117bb-495d-45d5-a0d1-1c3ea710ca32",
   "metadata": {},
   "source": [
    "Some of the popular languages that Data Scientists use are:\n",
    "1. Python\n",
    "2. R\n",
    "3. Scala \n",
    "4. Java\n",
    "5. SQL"
   ]
  },
  {
   "cell_type": "markdown",
   "id": "a4bcbe52-0b88-4284-a0c9-0fc1ecc2a4fe",
   "metadata": {},
   "source": [
    "Some of the popular languages that Data Scientists use are:\n",
    "1. Python\n",
    "2. R\n",
    "3. Scala \n",
    "4. Java\n",
    "5. SQL"
   ]
  },
  {
   "cell_type": "markdown",
   "id": "fb983686-413d-499f-a4f4-d5c089ed6e05",
   "metadata": {},
   "source": [
    "**Objectives:**\n",
    "- Describe the components of a Data Scientist toolkit and list various tool categories\n",
    "- List examples of Open Source, Commercial, and Cloud-based tools in various categories\n",
    "- Identify the criteria and roles for determining the language to learn.\n",
    "- Identify the users and benefits of Python.\n",
    "- Identify the users and uses of the R language.\n",
    "- Define SQL elements and list their benefits.\n",
    "- Review languages such as Java, Scala, C++, JavaScript, and Julia.\n",
    "- List the global communities for connecting with other users.\n"
   ]
  },
  {
   "cell_type": "markdown",
   "id": "731ff341-7636-4085-85d0-148eea0e2b48",
   "metadata": {},
   "source": [
    "**Objectives:**\n",
    "- Describe the components of a Data Scientist toolkit and list various tool categories\n",
    "- List examples of Open Source, Commercial, and Cloud-based tools in various categories\n",
    "- Identify the criteria and roles for determining the language to learn.\n",
    "- Identify the users and benefits of Python.\n",
    "- Identify the users and uses of the R language.\n",
    "- Define SQL elements and list their benefits.\n",
    "- Review languages such as Java, Scala, C++, JavaScript, and Julia.\n",
    "- List the global communities for connecting with other users.\n"
   ]
  },
  {
   "cell_type": "markdown",
   "id": "acfa5cf1-56a9-40d9-a5f9-196687cf6b1b",
   "metadata": {},
   "source": [
    "Some of the popular languages that Data Scientists use are:\n",
    "1. Python\n",
    "2. R\n",
    "3. Scala \n",
    "4. Java\n",
    "5. SQL"
   ]
  },
  {
   "cell_type": "markdown",
   "id": "dbf97658-3730-4b71-aeb7-8714db609a1f",
   "metadata": {},
   "source": [
    "Some of the popular languages that Data Scientists use are:\n",
    "1. Python\n",
    "2. R\n",
    "3. Scala \n",
    "4. Java\n",
    "5. SQL"
   ]
  },
  {
   "cell_type": "markdown",
   "id": "98290212-5647-43ac-b506-eef151062026",
   "metadata": {},
   "source": [
    "Some of the commonly used libraries used by Data Scientists include:\n",
    "1. TensorFlow\n",
    "2. Numpy\n",
    "3. SciPy \n",
    "4. Pandas\n",
    "5. Matplotlib "
   ]
  },
  {
   "cell_type": "markdown",
   "id": "b56afc9d-d5dc-426e-bf2f-61e70df294b5",
   "metadata": {},
   "source": [
    "Some of the commonly used libraries used by Data Scientists include:\n",
    "1. TensorFlow\n",
    "2. Numpy\n",
    "3. SciPy \n",
    "4. Pandas\n",
    "5. Matplotlib "
   ]
  },
  {
   "cell_type": "markdown",
   "id": "c9e762bd-bb65-4b68-ae93-320b0d00f714",
   "metadata": {},
   "source": [
    "| Data Science Tools |\n",
    "|-------|\n",
    "| Python |\n",
    "| Pandas |\n",
    "| Numpy |\n",
    "| JupyterLab |"
   ]
  },
  {
   "cell_type": "markdown",
   "id": "8f2dac28-da5f-4cb2-82a8-6f1468ef80d2",
   "metadata": {},
   "source": [
    "| Data Science Tools |\n",
    "|-------|\n",
    "| Python |\n",
    "| Pandas |\n",
    "| Numpy |\n",
    "| JupyterLab |"
   ]
  },
  {
   "cell_type": "markdown",
   "id": "be3760e6-2fb5-4d67-ae3b-cf07bb178d55",
   "metadata": {},
   "source": [
    "### Below are a few examples of evaluating arithmetic expressions in Python."
   ]
  },
  {
   "cell_type": "markdown",
   "id": "97422c05-4bb5-4251-88eb-5fb9c050ae77",
   "metadata": {},
   "source": [
    "### Below are a few examples of evaluating arithmetic expressions in Python."
   ]
  },
  {
   "cell_type": "markdown",
   "id": "f1058ed3-3090-4a72-af7c-ee4ceb3f27db",
   "metadata": {},
   "source": [
    "This a simple arithmetic expression to mutiply then add integers"
   ]
  },
  {
   "cell_type": "markdown",
   "id": "a7cfc082-0f32-4ef6-9169-214dee3c4a39",
   "metadata": {},
   "source": [
    "This a simple arithmetic expression to mutiply then add integers"
   ]
  },
  {
   "cell_type": "code",
   "execution_count": 2,
   "id": "5c50799f-e716-48fe-8c13-be05074fdfba",
   "metadata": {
    "tags": []
   },
   "outputs": [
    {
     "data": {
      "text/plain": [
       "17"
      ]
     },
     "execution_count": 2,
     "metadata": {},
     "output_type": "execute_result"
    }
   ],
   "source": [
    "(3*4)+5"
   ]
  },
  {
   "cell_type": "markdown",
   "id": "ce5e047a-95fe-4c01-b2c2-70582cdd05f9",
   "metadata": {},
   "source": [
    "This will convert 200 minutes to hours by diving by 60."
   ]
  },
  {
   "cell_type": "markdown",
   "id": "5212e808-4a31-4996-a96e-357cbfc1e4ba",
   "metadata": {},
   "source": [
    "This will convert 200 minutes to hours by diving by 60."
   ]
  },
  {
   "cell_type": "code",
   "execution_count": 3,
   "id": "24287840-5665-4568-abc6-6ceddc31f14d",
   "metadata": {
    "tags": []
   },
   "outputs": [
    {
     "data": {
      "text/plain": [
       "3.3333333333333335"
      ]
     },
     "execution_count": 3,
     "metadata": {},
     "output_type": "execute_result"
    }
   ],
   "source": [
    "200/60"
   ]
  },
  {
   "cell_type": "markdown",
   "id": "a14c6f4b-4c74-4d18-bcdc-872bd308fadf",
   "metadata": {},
   "source": [
    "## Author\n",
    "Faizan Hyder"
   ]
  },
  {
   "cell_type": "markdown",
   "id": "6baac811-e300-40b0-999a-4f3d235d3391",
   "metadata": {},
   "source": [
    "## Author\n",
    "Faizan Hyder"
   ]
  }
 ],
 "metadata": {
  "kernelspec": {
   "display_name": "Python",
   "language": "python",
   "name": "conda-env-python-py"
  },
  "language_info": {
   "codemirror_mode": {
    "name": "ipython",
    "version": 3
   },
   "file_extension": ".py",
   "mimetype": "text/x-python",
   "name": "python",
   "nbconvert_exporter": "python",
   "pygments_lexer": "ipython3",
   "version": "3.7.12"
  }
 },
 "nbformat": 4,
 "nbformat_minor": 5
}
